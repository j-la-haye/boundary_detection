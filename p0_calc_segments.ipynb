{
 "cells": [
  {
   "cell_type": "markdown",
   "metadata": {},
   "source": [
    "### Field-Bounds\n",
    "#### The Following script clips an orthomap to an area of interest. \n",
    "#### The clipped AOI is then segmented and the boundaries of the segmented areas are written to a shapefiles to extract zonal statistics on the input AOI geoTiff file. "
   ]
  },
  {
   "cell_type": "markdown",
   "metadata": {},
   "source": [
    "### Load Libraries"
   ]
  },
  {
   "cell_type": "markdown",
   "metadata": {},
   "source": [
    "%matplotlib inline\n",
    "\n",
    "import ee\n",
    "import os\n",
    "import rasterio\n",
    "import affine\n",
    "import matplotlib.pyplot as plt\n",
    "import cv2\n",
    "import numpy as np\n",
    "import fiona\n",
    "import sys\n",
    "import itertools as it\n",
    "import matplotlib as mplt\n",
    "import shapely\n",
    "\n",
    "from osgeo import gdal\n",
    "\n",
    "from skimage.filters import sobel\n",
    "from skimage import segmentation\n",
    "\n",
    "from skimage import feature\n",
    "from skimage import data\n",
    "from skimage import filters\n",
    "from skimage.util import img_as_ubyte\n",
    "from skimage.filters import rank\n",
    "from skimage.filters.rank import entropy\n",
    "from skimage.morphology import disk\n",
    "\n",
    "from skimage import (transform, exposure, segmentation,\n",
    "                     filters, feature, morphology)\n",
    "\n",
    "from skimage.color import label2rgb\n",
    "from scipy import ndimage as ndi\n",
    "\n",
    "from PIL import Image\n",
    "\n",
    "from rasterio import plot\n",
    "from rasterio.plot import show,show_hist\n",
    "from rasterio.features import shapes as polygonize\n",
    "\n",
    "from matplotlib import pyplot\n",
    "from rasterio.plot import show,reshape_as_raster, reshape_as_image\n",
    "from rasterio.mask import mask as msk\n",
    "\n",
    "\n",
    "import matplotlib as mpl\n",
    "from descartes import PolygonPatch"
   ]
  },
  {
   "cell_type": "markdown",
   "metadata": {},
   "source": [
    "### Calculate the NDVI band"
   ]
  },
  {
   "cell_type": "code",
   "execution_count": null,
   "metadata": {},
   "outputs": [],
   "source": [
    "\n",
    "\n",
    "outfile = r'groenlo/p0_results/ndvi.tif'\n",
    "#url to the bands\n",
    "red = 'groenlo/red.tif'\n",
    "nir = 'groenlo/nir.tif'\n",
    "\n",
    "#open the bands (I can't believe how easy is this with rasterio!)\n",
    "with rasterio.open(red) as red:\n",
    "    RED = red.read()\n",
    "with rasterio.open(nir) as nir:\n",
    "    NIR = nir.read()\n",
    "\n",
    "#compute the ndvi\n",
    "\n",
    "np.seterr(divide='ignore', invalid='ignore')\n",
    "\n",
    "ndvi = (NIR.astype(float)-RED.astype(float))/(NIR+RED)\n",
    "print(ndvi.min(), ndvi.max()) \n",
    "\n",
    "profile = red.meta\n",
    "profile.update(driver='GTiff')\n",
    "profile.update(dtype=rasterio.float32)\n",
    "\n",
    "with rasterio.open(outfile, 'w', **profile) as dst:\n",
    "    dst.write(ndvi.astype(rasterio.float32))\n",
    "    "
   ]
  },
  {
   "cell_type": "markdown",
   "metadata": {},
   "source": [
    "### Read New NDVI Map"
   ]
  },
  {
   "cell_type": "code",
   "execution_count": null,
   "metadata": {},
   "outputs": [],
   "source": [
    "import numpy.ma as ma\n",
    "with rasterio.open('groenlo/p0_results/ndvi.tif',masked=True) as src:\n",
    "    ndvi = src.read()\n",
    "    "
   ]
  },
  {
   "cell_type": "markdown",
   "metadata": {},
   "source": [
    "### Show Image Histogram"
   ]
  },
  {
   "cell_type": "code",
   "execution_count": null,
   "metadata": {},
   "outputs": [],
   "source": [
    "show_hist(ndvi,30)"
   ]
  },
  {
   "cell_type": "markdown",
   "metadata": {},
   "source": [
    "### Mask no data values"
   ]
  },
  {
   "cell_type": "code",
   "execution_count": null,
   "metadata": {},
   "outputs": [],
   "source": [
    "import copy\n",
    "ndvim = copy.copy(ndvi)\n",
    "\n",
    "ndvim[ndvi == 0] = np.nan"
   ]
  },
  {
   "cell_type": "markdown",
   "metadata": {},
   "source": [
    "### Mask NoData Values"
   ]
  },
  {
   "cell_type": "code",
   "execution_count": null,
   "metadata": {},
   "outputs": [],
   "source": [
    "veg = rasterio.open('groenlo/p0_results/ndvi.tif',masked=True)\n",
    "aff = (veg.meta)['affine']\n",
    "veg_nd = veg.read(1)\n",
    "veg_nd[veg_nd == 0 ] = np.nan\n",
    "veg_nd[veg_nd < 0 ] = 0\n"
   ]
  },
  {
   "cell_type": "markdown",
   "metadata": {},
   "source": [
    "### Plot the Mask Orthomap"
   ]
  },
  {
   "cell_type": "code",
   "execution_count": null,
   "metadata": {},
   "outputs": [],
   "source": [
    "fig, ax = plt.subplots(figsize=(5, 5),\n",
    "                          sharex=True, sharey=True)\n",
    "img0 = ax.imshow(veg_nd, cmap = 'RdYlGn')\n",
    "ax.set_title(\"NDVI\")\n",
    "\n",
    "ax.axis(\"off\")\n",
    "fig.colorbar(img0, ax=ax,fraction=0.04)\n",
    "fig.tight_layout()\n",
    "\n",
    "plt.show()"
   ]
  },
  {
   "cell_type": "code",
   "execution_count": null,
   "metadata": {},
   "outputs": [],
   "source": []
  },
  {
   "cell_type": "markdown",
   "metadata": {},
   "source": [
    "### Plot the AOI Shapefile"
   ]
  },
  {
   "cell_type": "code",
   "execution_count": null,
   "metadata": {},
   "outputs": [],
   "source": [
    "import geopandas as gp\n",
    "plots = gp.GeoDataFrame.from_file(\n",
    "    'aoi.shp')\n",
    "plots.head()"
   ]
  },
  {
   "cell_type": "code",
   "execution_count": null,
   "metadata": {},
   "outputs": [],
   "source": [
    "plots.plot()"
   ]
  },
  {
   "cell_type": "markdown",
   "metadata": {},
   "source": [
    "### Verify the AOI Placement"
   ]
  },
  {
   "cell_type": "code",
   "execution_count": null,
   "metadata": {},
   "outputs": [],
   "source": [
    "import matplotlib.pyplot as plt\n",
    "import matplotlib.patches as patches\n",
    "from PIL import Image\n",
    "import numpy as np\n",
    "\n",
    "#im = np.array(Image.open('stinkbug.png'), dtype=np.uint8)\n",
    "\n",
    "# Create figure and axes\n",
    "fig,(ax1,ax2) = plt.subplots(1,2,figsize=(8,8))\n",
    "\n",
    "# Display the image\n",
    "show((veg_nd),ax=ax1,cmap='RdYlGn',title='NDVI of Study Area')\n",
    "\n",
    "# Display the area of interest\n",
    "show((veg,1),ax=ax2,cmap='RdYlGn',title='Area of Interest')\n",
    "\n",
    "# Create a Rectangle patch\n",
    "\n",
    "with fiona.open(\"aoi.shp\", \"r\") as shapefile:\n",
    "    features = [feature[\"geometry\"] for feature in shapefile]\n",
    "patches = [PolygonPatch(feature, edgecolor=\"red\", facecolor=\"none\", linewidth=2) for feature in features]\n",
    "\n",
    "#rect = patches.Rectangle((2000,1500),5500,4500,linewidth=1,edgecolor='r',facecolor='none')\n",
    "# Add the patch to the Axes\n",
    "ax2.add_collection(mplt.collections.PatchCollection(patches))\n",
    "\n",
    "\n",
    "#plt.savefig('groenlo/p0_results/plot.png')\n",
    "#plt.show()"
   ]
  },
  {
   "cell_type": "markdown",
   "metadata": {},
   "source": [
    "## Crop Image\n"
   ]
  },
  {
   "cell_type": "markdown",
   "metadata": {},
   "source": [
    "### Clip to AOI"
   ]
  },
  {
   "cell_type": "code",
   "execution_count": null,
   "metadata": {},
   "outputs": [],
   "source": [
    "\n",
    "with rasterio.open(\"groenlo/p0_results/ndvi.tif\") as src:\n",
    "    out_image, out_transform = msk(src, features, crop=True)\n",
    "    out_meta = src.meta.copy()\n",
    "    #out_image [out_image == 0] = np.nan\n",
    "    \n",
    "    \n",
    "out_meta.update({\"driver\": \"GTiff\",\n",
    "                 \"height\": out_image.shape[1],\n",
    "                 \"width\": out_image.shape[2],\n",
    "                 \"transform\": out_transform,\n",
    "                 \"affine\":veg.meta['affine']\n",
    "                })\n",
    "out_image.astype(rasterio.uint8)\n",
    "\n",
    "with rasterio.open(\"groenlo/p0_results/AoiPlots.tif\", \"w\", **out_meta) as dest:\n",
    "    dest.write(out_image)"
   ]
  },
  {
   "cell_type": "code",
   "execution_count": null,
   "metadata": {},
   "outputs": [],
   "source": [
    "with rasterio.open('groenlo/p0_results/AoiPlots.tif',masked=True) as src:\n",
    "    aoi= src.read(1)\n",
    "    aoi[aoi == -10000] = np.nan\n",
    "    aoi[aoi < 0 ] = 0\n",
    "\n",
    "fig, ax1 = plt.subplots(figsize=(5,5),sharex=True, sharey=True)    \n",
    "img0 = ax1.imshow(aoi,cmap ='RdYlGn')\n",
    "ax1.set_title(\"NDVI\")\n",
    "ax1.axis('off')\n",
    "fig.colorbar(img0,ax=ax1,fraction=0.03)\n",
    "fig.tight_layout()\n",
    "\n",
    "plt.show()\n",
    "#plt.savefig('groenlo/p0_results/aoi.png')"
   ]
  },
  {
   "cell_type": "markdown",
   "metadata": {},
   "source": [
    "### Filter AOI Image\n",
    "#### Test local-mean, bilateral, and percentile filters to remove non-uniformity in plots."
   ]
  },
  {
   "cell_type": "code",
   "execution_count": null,
   "metadata": {},
   "outputs": [],
   "source": [
    "selem = disk(12)\n",
    "\n",
    "with rasterio.open('groenlo/p0_results/AoiPlots.tif',masked=True) as src:\n",
    "    aoi1= src.read(1)\n",
    "    aoi1[aoi1 == -10000] = np.nan\n",
    "    aoi1[aoi1 < 0] = 0\n",
    "    aoi1[aoi1 > 1 ] = 1\n",
    "\n",
    "percentile_result = rank.mean_percentile(aoi1, selem=selem, p0=0.05, p1=0.95)\n",
    "bilateral_result = rank.mean_bilateral(aoi1, selem=selem, s0=2, s1=2)\n",
    "normal_result = rank.mean(aoi1, selem=selem)\n",
    "\n",
    "fig, axes = plt.subplots(nrows=2, ncols=2, figsize=(10, 10),\n",
    "                         sharex=True, sharey=True)\n",
    "ax = axes.ravel()\n",
    "\n",
    "titles = ['Original', 'Percentile mean', 'Bilateral mean', 'Local mean']\n",
    "imgs = [aoi1, percentile_result, bilateral_result, normal_result]\n",
    "for n in range(0, len(imgs)):\n",
    "    img = ax[n].imshow(imgs[n], cmap='RdYlGn')\n",
    "    ax[n].set_title(titles[n])\n",
    "    ax[n].axis('off')\n",
    "    #fig.colorbar(img,ax[n])\n",
    "    \n",
    "plt.tight_layout()\n",
    "plt.show()"
   ]
  },
  {
   "cell_type": "markdown",
   "metadata": {},
   "source": [
    "### EVI (Not Used)\n",
    "##### Calculate 2 Band EVI: 2.5\\*\\((NIR-Red)/(NIR+2.4*Red+1))"
   ]
  },
  {
   "cell_type": "code",
   "execution_count": null,
   "metadata": {},
   "outputs": [],
   "source": [
    "np.seterr(divide='ignore', invalid='ignore')\n",
    "\n",
    "def evi(red,nir):\n",
    "    evi = 2.5*((nir.astype(float) - red.astype(float))) / (nir.astype(float) + 2.4*red.astype(float) + 1)\n",
    "    return evi\n",
    "\n",
    "evi = evi(red,nir)"
   ]
  },
  {
   "cell_type": "markdown",
   "metadata": {},
   "source": [
    "### Run Edge Detection on Local-Mean Result\n"
   ]
  },
  {
   "cell_type": "code",
   "execution_count": null,
   "metadata": {},
   "outputs": [],
   "source": [
    "edges1 = sobel(percentile_result)\n",
    "edges2 = sobel(normal_result)\n",
    "bounds1 = edges1\n",
    "bounds2 = edges2\n",
    "\n",
    "fig,(ax1,ax2)=plt.subplots(nrows=1,ncols=2,figsize=(15,15))\n",
    "#ax.axis('off')\n",
    "show(bounds1,ax=ax1,cmap=plt.cm.gray,interpolation='nearest',title='Percentile Mean')\n",
    "show(bounds2,ax=ax2,cmap=plt.cm.gray,interpolation='nearest',title='Local Mean')"
   ]
  },
  {
   "cell_type": "code",
   "execution_count": null,
   "metadata": {},
   "outputs": [],
   "source": [
    "#fig,(ax1,ax2)=plt.subplots(nrows=1,ncols=2,figsize=(15,15))\n",
    "show_hist(bounds1,10,title='percentile mean')\n",
    "show_hist(bounds2,10,title='local mean')"
   ]
  },
  {
   "cell_type": "markdown",
   "metadata": {},
   "source": [
    "### Set Clipped border to 0 values to exclude from segmentation"
   ]
  },
  {
   "cell_type": "code",
   "execution_count": null,
   "metadata": {},
   "outputs": [],
   "source": [
    "bounds2 = edges2\n",
    "bounds2 = bounds2.astype(rasterio.float64)\n",
    "bounds2[bounds2 > 0.035 ] = 0\n",
    "\n",
    "show(bounds2)"
   ]
  },
  {
   "cell_type": "code",
   "execution_count": null,
   "metadata": {},
   "outputs": [],
   "source": [
    "markers = np.zeros_like(bounds2)\n",
    "markers[bounds2 == 0 ] = 0\n",
    "markers[bounds2 < 0.015 ] = 1\n",
    "markers[bounds2 > 0.015 ] = 2\n",
    "\n",
    "#markers[percentile_result < 100] = 3\n",
    "#markers[percentile_result < 50] = 3\n",
    "\n",
    "fig, ax = plt.subplots(figsize=(5, 5))\n",
    "ax.imshow(markers, cmap=plt.cm.Spectral, interpolation='nearest')\n",
    "ax.set_title('markers')\n",
    "ax.axis('off')\n",
    "#ax.set_adjustable('box-forced')\n",
    "\n"
   ]
  },
  {
   "cell_type": "code",
   "execution_count": null,
   "metadata": {},
   "outputs": [],
   "source": [
    "help(morphology.watershed)"
   ]
  },
  {
   "cell_type": "markdown",
   "metadata": {},
   "source": [
    "### Find Field Boundaries with Segmentation Methods"
   ]
  },
  {
   "cell_type": "code",
   "execution_count": null,
   "metadata": {},
   "outputs": [],
   "source": [
    "from skimage import morphology\n",
    "\n",
    "segmentation = morphology.watershed(bounds2,markers)\n",
    "\n",
    "fig, ax = plt.subplots(figsize=(7, 7))\n",
    "ax.imshow(segmentation, cmap=plt.cm.gray, interpolation='nearest')\n",
    "ax.set_title('segmentation')\n",
    "ax.axis('off')\n",
    "#ax.set_adjustable('box-forced')"
   ]
  },
  {
   "cell_type": "code",
   "execution_count": null,
   "metadata": {},
   "outputs": [],
   "source": [
    "from skimage.color import label2rgb\n",
    "from scipy import ndimage as ndi\n",
    "\n",
    "segmentation = ndi.binary_fill_holes(segmentation - 1)\n",
    "labeled_plots, _ = ndi.label(segmentation)\n",
    "plot_overlay = label2rgb(labeled_plots, image=normal_result)\n",
    "\n",
    "type(labeled_plots)\n",
    "\n",
    "titles = 'Contours'\n",
    "fig, axes = plt.subplots( figsize=(5, 5))\n",
    "axes.imshow(aoiFilt, cmap=plt.cm.gray, interpolation='nearest')\n",
    "axes.contour(segmentation,[0.4] ,linewidths=1, colors='r')\n",
    "axes.set_title(titles)\n",
    "axes.axis('off')\n",
    "    \n",
    "plt.tight_layout()\n",
    "#plt.savefig('groenlo/p0_results/contours.png')\n",
    "\n"
   ]
  },
  {
   "cell_type": "code",
   "execution_count": null,
   "metadata": {},
   "outputs": [],
   "source": [
    "titles = 'Detected Plots'\n",
    "fig, axes = plt.subplots(figsize=(5, 5))\n",
    "axes.imshow(plot_overlay, interpolation='nearest')\n",
    "axes.set_title(titles)\n",
    "axes.axis('off')\n",
    "\n",
    "plt.tight_layout()\n",
    "plt.savefig('groenlo/p0_results/bounds.png')"
   ]
  },
  {
   "cell_type": "code",
   "execution_count": null,
   "metadata": {},
   "outputs": [],
   "source": [
    "borders = plt.contour(segmentation,[0.4] ,linewidths=1, colors='r',origin='image')\n",
    "bounds= borders.collections"
   ]
  },
  {
   "cell_type": "code",
   "execution_count": null,
   "metadata": {},
   "outputs": [],
   "source": [
    "len(borders.collections)\n",
    "#type(segmentation)"
   ]
  },
  {
   "cell_type": "markdown",
   "metadata": {},
   "source": [
    "### Write Contour to Shapefile"
   ]
  },
  {
   "cell_type": "code",
   "execution_count": null,
   "metadata": {},
   "outputs": [],
   "source": [
    "def write_segments(fn, segments, mask, source_crs,\n",
    "                   raster_meta, write_raster=True):\n",
    "    '''\n",
    "    Convert a numpy array of segments to polygons using\n",
    "    rasterio.features.shapes and write the resultant records\n",
    "    to a Shapefile.\n",
    "    '''\n",
    "    segments = segments.astype('int32')\n",
    "    if write_raster:\n",
    "        raster_meta.update(dtype=rasterio.int32,\n",
    "                           count=1,\n",
    "                           compress='lzw',\n",
    "                           nodata=0)\n",
    "        raster_fn = os.path.splitext(fn)[0] + '.tif'\n",
    "        with rasterio.open(raster_fn, 'w', **raster_meta) as gtiff:\n",
    "            gtiff.write(segments, 1)\n",
    "            gtiff.write_mask(mask)\n",
    "\n",
    "    shp_schema = {'geometry': 'Polygon', 'properties': {'id': 'int'}}\n",
    "    with fiona.open(fn, 'w', driver='ESRI Shapefile',\n",
    "                    crs=source_crs, schema=shp_schema) as shpfile:\n",
    "        for shape, val, in polygonize(segments,\n",
    "                                      transform=raster_meta['transform'],\n",
    "                                      mask=mask):\n",
    "            record = dict(geometry=shape, id=val, properties={'id': val})\n",
    "            shpfile.write(record)"
   ]
  },
  {
   "cell_type": "code",
   "execution_count": null,
   "metadata": {},
   "outputs": [],
   "source": [
    "testPlot = rasterio.open('groenlo/p0_results/AoiPlots.tif')\n",
    "tpMeta = testPlot.meta\n"
   ]
  },
  {
   "cell_type": "code",
   "execution_count": null,
   "metadata": {},
   "outputs": [],
   "source": [
    "mask= testPlot.read(1) != tpMeta['nodata']\n",
    "#mask = np.logical_or(mask, band != nd)"
   ]
  },
  {
   "cell_type": "code",
   "execution_count": null,
   "metadata": {},
   "outputs": [],
   "source": [
    "crs = tpMeta['crs']"
   ]
  },
  {
   "cell_type": "markdown",
   "metadata": {},
   "source": [
    "### Write Labeled Plots to Shape file"
   ]
  },
  {
   "cell_type": "code",
   "execution_count": null,
   "metadata": {},
   "outputs": [],
   "source": [
    "pltPoly = write_segments('groenlo/p0_results/test_plot',labeled_plots,mask,crs,tpMeta,True)"
   ]
  },
  {
   "cell_type": "code",
   "execution_count": null,
   "metadata": {},
   "outputs": [],
   "source": [
    "with rasterio.open('test_plot.tif') as src:\n",
    "    testaoi = src.read(1)\n",
    "    testaoi = testaoi.astype(np.float32)\n",
    "    testaoi [testaoi == 0 ] = np.nan\n",
    "\n",
    "show(testaoi)\n",
    "\n"
   ]
  }
 ],
 "metadata": {
  "kernelspec": {
   "display_name": "Python 3",
   "language": "python",
   "name": "python3"
  },
  "language_info": {
   "codemirror_mode": {
    "name": "ipython",
    "version": 3
   },
   "file_extension": ".py",
   "mimetype": "text/x-python",
   "name": "python",
   "nbconvert_exporter": "python",
   "pygments_lexer": "ipython3",
   "version": "3.6.5"
  }
 },
 "nbformat": 4,
 "nbformat_minor": 2
}
